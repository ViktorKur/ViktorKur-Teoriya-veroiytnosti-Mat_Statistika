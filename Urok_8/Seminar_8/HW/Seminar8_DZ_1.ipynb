{
  "nbformat": 4,
  "nbformat_minor": 0,
  "metadata": {
    "colab": {
      "provenance": []
    },
    "kernelspec": {
      "name": "python3",
      "display_name": "Python 3"
    },
    "language_info": {
      "name": "python"
    }
  },
  "cells": [
    {
      "cell_type": "markdown",
      "source": [
        "# Задание 1.\n",
        "# Даны значения величины заработной платы заемщиков банка (zp) и значения их\n",
        "# поведенческого кредитного скоринга (ks):\n",
        "# zp = [35, 45, 190, 200, 40, 70, 54, 150, 120, 110],\n",
        "# ks = [401, 574, 874, 919, 459, 739, 653, 902, 746, 832].\n",
        "#Найдите ковариацию этих двух величин с помощью элементарных действий, а затем с помощью функции cov из numpy Полученные значения должны быть равны. Найдите коэффициент корреляции Пирсона с помощью ковариации и среднеквадратичных отклонений двух признаков, а затем с использованием функций из библиотек numpy и pandas."
      ],
      "metadata": {
        "id": "Cb8liOFqhYyA"
      }
    },
    {
      "cell_type": "code",
      "execution_count": null,
      "metadata": {
        "colab": {
          "base_uri": "https://localhost:8080/"
        },
        "id": "lFPWJjkXhQYh",
        "outputId": "1b64b661-44fe-49e8-acc7-2587d4815cc3"
      },
      "outputs": [
        {
          "output_type": "stream",
          "name": "stdout",
          "text": [
            "Ковариация вручную: 10175.37777777778\n",
            "Ковариация с помощью numpy: 10175.377777777776\n",
            "Коэффициент корреляции Пирсона вручную:0.8874900920739164\n",
            "Коэффициент корреляции Пирсона с помощью numpy:0.8874900920739162\n",
            "Коэффициент корреляции Пирсона с помощью pandas:0.8874900920739162\n"
          ]
        }
      ],
      "source": [
        "import numpy as np\n",
        "import pandas as pd\n",
        "# Данные\n",
        "zp = np.array([35, 45, 190, 200, 40, 70, 54, 150, 120, 110])\n",
        "ks = np.array([401, 574, 874, 919, 459, 739, 653, 902, 746, 832])\n",
        "# 1. Ковариация вручную\n",
        "mean_zp = np.mean(zp)\n",
        "mean_ks = np.mean(ks)\n",
        "cov_manual = np.sum((zp - mean_zp) * (ks - mean_ks)) / (len(zp) - 1)\n",
        "print(f\"Ковариация вручную: {cov_manual}\")\n",
        "# 2. Ковариация с помощью numpy\n",
        "cov_numpy = np.cov(zp, ks)[0, 1]\n",
        "print(f\"Ковариация с помощью numpy: {cov_numpy}\")\n",
        "# 3. Коэффициент корреляции Пирсона вручную\n",
        "std_zp = np.std(zp, ddof=1)\n",
        "std_ks = np.std(ks, ddof=1)\n",
        "correlation_manual = cov_manual / (std_zp * std_ks)\n",
        "print(f\"Коэффициент корреляции Пирсона вручную:{correlation_manual}\")\n",
        "# 4. Коэффициент корреляции Пирсона с помощью numpy\n",
        "correlation_numpy = np.corrcoef(zp, ks)[0, 1]\n",
        "print(f\"Коэффициент корреляции Пирсона с помощью numpy:{correlation_numpy}\")\n",
        "# 5. Коэффициент корреляции Пирсона с помощью pandas\n",
        "correlation_pandas = pd.Series(zp).corr(pd.Series(ks))\n",
        "print(f\"Коэффициент корреляции Пирсона с помощью pandas:{correlation_pandas}\")"
      ]
    }
  ]
}